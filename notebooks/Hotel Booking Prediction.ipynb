{
 "cells": [
  {
   "cell_type": "markdown",
   "id": "52210e3f",
   "metadata": {},
   "source": [
    "# Hotel Booking Prediction"
   ]
  },
  {
   "cell_type": "markdown",
   "id": "fbcce7e2",
   "metadata": {},
   "source": [
    "## Load Libraries"
   ]
  },
  {
   "cell_type": "code",
   "execution_count": 5,
   "id": "9b8222a2",
   "metadata": {},
   "outputs": [],
   "source": [
    "# Load built-in libraries\n",
    "import requests\n",
    "import pickle\n",
    "import joblib\n",
    "\n",
    "# Load data manipulation libaries\n",
    "import numpy as np\n",
    "import pandas as pd\n",
    "import matplotlib.pyplot as plt\n",
    "\n",
    "# Load model libraries\n",
    "from sklearn.ensemble import RandomForestClassifier\n",
    "from sklearn.model_selection import train_test_split, GridSearchCV\n",
    "\n",
    "from sklearn.compose import ColumnTransformer\n",
    "from sklearn.pipeline import Pipeline\n",
    "\n",
    "from sklearn.impute import SimpleImputer\n",
    "from sklearn.preprocessing import OrdinalEncoder\n",
    "\n",
    "from sklearn.metrics import roc_auc_score\n",
    "from sklearn.metrics import make_scorer\n",
    "\n",
    "# Set model SEED for consistent results\n",
    "SEED = 123 "
   ]
  },
  {
   "cell_type": "markdown",
   "id": "87466f71",
   "metadata": {},
   "source": [
    "## Get Booking Data"
   ]
  },
  {
   "cell_type": "code",
   "execution_count": 7,
   "id": "c5bd7e50",
   "metadata": {},
   "outputs": [
    {
     "name": "stdout",
     "output_type": "stream",
     "text": [
      "Success! Data loaded.\n"
     ]
    }
   ],
   "source": [
    "# Fetch dataset from API\n",
    "url = \"http://localhost:8000/hotel_booking\"  # Replace with your API endpoint\n",
    "\n",
    "headers = {\n",
    "    \"Accept\": \"application/json\"\n",
    "}\n",
    "\n",
    "try:\n",
    "    response = requests.get(url, headers=headers)\n",
    "    response.raise_for_status()  # If the response contains an HTTP error status code, this will raise a HTTPError  \n",
    "    data = response.json()  # Parse the JSON data from the response\n",
    "    print(\"Success! Data loaded.\")\n",
    "except requests.exceptions.HTTPError as http_err:\n",
    "    print(f\"HTTP error occurred: {http_err}\")\n",
    "except requests.exceptions.RequestException as err:\n",
    "    print(f\"Error occurred: {err}\")\n",
    "except Exception as e:\n",
    "    print(f\"An unexpected error occurred: {e}\")"
   ]
  },
  {
   "cell_type": "code",
   "execution_count": 8,
   "id": "20b12533",
   "metadata": {},
   "outputs": [
    {
     "name": "stdout",
     "output_type": "stream",
     "text": [
      "[INFO] Booking data loaded onto DataFrame...\n",
      "\n",
      "<class 'pandas.core.frame.DataFrame'>\n",
      "RangeIndex: 3000 entries, 0 to 2999\n",
      "Data columns (total 5 columns):\n",
      " #   Column         Non-Null Count  Dtype  \n",
      "---  ------         --------------  -----  \n",
      " 0   age            1714 non-null   float64\n",
      " 1   destination    3000 non-null   object \n",
      " 2   first_browser  3000 non-null   object \n",
      " 3   language       3000 non-null   object \n",
      " 4   booking        3000 non-null   int64  \n",
      "dtypes: float64(1), int64(1), object(3)\n",
      "memory usage: 117.3+ KB\n"
     ]
    }
   ],
   "source": [
    "# Load data onto Pandas DataFrame\n",
    "df = pd.DataFrame(data, columns=['age','destination','first_browser','language','booking'])\n",
    "print('[INFO] Booking data loaded onto DataFrame...')\n",
    "print('')\n",
    "df.info()"
   ]
  },
  {
   "cell_type": "code",
   "execution_count": 9,
   "id": "754cdef9",
   "metadata": {},
   "outputs": [
    {
     "data": {
      "text/html": [
       "<div>\n",
       "<style scoped>\n",
       "    .dataframe tbody tr th:only-of-type {\n",
       "        vertical-align: middle;\n",
       "    }\n",
       "\n",
       "    .dataframe tbody tr th {\n",
       "        vertical-align: top;\n",
       "    }\n",
       "\n",
       "    .dataframe thead th {\n",
       "        text-align: right;\n",
       "    }\n",
       "</style>\n",
       "<table border=\"1\" class=\"dataframe\">\n",
       "  <thead>\n",
       "    <tr style=\"text-align: right;\">\n",
       "      <th></th>\n",
       "      <th>age</th>\n",
       "      <th>destination</th>\n",
       "      <th>first_browser</th>\n",
       "      <th>language</th>\n",
       "      <th>booking</th>\n",
       "      <th>customer_id</th>\n",
       "    </tr>\n",
       "  </thead>\n",
       "  <tbody>\n",
       "    <tr>\n",
       "      <th>0</th>\n",
       "      <td>NaN</td>\n",
       "      <td>NDF</td>\n",
       "      <td>IE</td>\n",
       "      <td>en</td>\n",
       "      <td>1</td>\n",
       "      <td>1</td>\n",
       "    </tr>\n",
       "    <tr>\n",
       "      <th>1</th>\n",
       "      <td>28.0</td>\n",
       "      <td>NDF</td>\n",
       "      <td>Chrome</td>\n",
       "      <td>en</td>\n",
       "      <td>1</td>\n",
       "      <td>2</td>\n",
       "    </tr>\n",
       "    <tr>\n",
       "      <th>2</th>\n",
       "      <td>NaN</td>\n",
       "      <td>GB</td>\n",
       "      <td>-unknown-</td>\n",
       "      <td>en</td>\n",
       "      <td>1</td>\n",
       "      <td>3</td>\n",
       "    </tr>\n",
       "    <tr>\n",
       "      <th>3</th>\n",
       "      <td>32.0</td>\n",
       "      <td>NDF</td>\n",
       "      <td>Safari</td>\n",
       "      <td>en</td>\n",
       "      <td>1</td>\n",
       "      <td>4</td>\n",
       "    </tr>\n",
       "    <tr>\n",
       "      <th>4</th>\n",
       "      <td>NaN</td>\n",
       "      <td>NDF</td>\n",
       "      <td>IE</td>\n",
       "      <td>en</td>\n",
       "      <td>1</td>\n",
       "      <td>5</td>\n",
       "    </tr>\n",
       "  </tbody>\n",
       "</table>\n",
       "</div>"
      ],
      "text/plain": [
       "    age destination first_browser language  booking  customer_id\n",
       "0   NaN         NDF            IE       en        1            1\n",
       "1  28.0         NDF        Chrome       en        1            2\n",
       "2   NaN          GB     -unknown-       en        1            3\n",
       "3  32.0         NDF        Safari       en        1            4\n",
       "4   NaN         NDF            IE       en        1            5"
      ]
     },
     "execution_count": 9,
     "metadata": {},
     "output_type": "execute_result"
    }
   ],
   "source": [
    "df['customer_id'] = 1\n",
    "df['customer_id'] = df['customer_id'].cumsum(); df.head()"
   ]
  },
  {
   "cell_type": "code",
   "execution_count": 10,
   "id": "4017dcf8",
   "metadata": {},
   "outputs": [],
   "source": [
    "def random_dates(start, end, n=10):\n",
    "\n",
    "    start_u = start.value//10**9\n",
    "    end_u = end.value//10**9\n",
    "\n",
    "    return pd.to_datetime(np.random.randint(start_u, end_u, n), unit='s')\n",
    "\n",
    "start = pd.to_datetime('2021-01-01')\n",
    "end = pd.to_datetime('2022-04-01')\n",
    "df['session_date'] = random_dates(start, end, df.shape[0])"
   ]
  },
  {
   "cell_type": "code",
   "execution_count": 11,
   "id": "c7e96d1b",
   "metadata": {},
   "outputs": [],
   "source": [
    "df[['customer_id','session_date','age','destination','first_browser','language','booking']].to_csv('hotel_booking.csv', index=False)"
   ]
  },
  {
   "cell_type": "markdown",
   "id": "ea90fa26",
   "metadata": {},
   "source": [
    "# Exploratory Data Analysis\n",
    "\n",
    "We will conduct a simple exploratory data analysis assessing the following questions below. These will help inform the a sound modeling strategy for the booking prediction.\n",
    "\n",
    "<ol>\n",
    "    <li>What is the missingness of the data?</li>\n",
    "    <li>What are the distribution of each variable?</li>\n",
    "    <li>What is the relationship between each variable and booking?</li>    \n",
    "</ol>"
   ]
  },
  {
   "cell_type": "code",
   "execution_count": 12,
   "id": "626a096a",
   "metadata": {},
   "outputs": [
    {
     "data": {
      "text/html": [
       "<div>\n",
       "<style scoped>\n",
       "    .dataframe tbody tr th:only-of-type {\n",
       "        vertical-align: middle;\n",
       "    }\n",
       "\n",
       "    .dataframe tbody tr th {\n",
       "        vertical-align: top;\n",
       "    }\n",
       "\n",
       "    .dataframe thead th {\n",
       "        text-align: right;\n",
       "    }\n",
       "</style>\n",
       "<table border=\"1\" class=\"dataframe\">\n",
       "  <thead>\n",
       "    <tr style=\"text-align: right;\">\n",
       "      <th></th>\n",
       "      <th>age</th>\n",
       "      <th>destination</th>\n",
       "      <th>first_browser</th>\n",
       "      <th>language</th>\n",
       "      <th>booking</th>\n",
       "      <th>customer_id</th>\n",
       "      <th>session_date</th>\n",
       "    </tr>\n",
       "  </thead>\n",
       "  <tbody>\n",
       "    <tr>\n",
       "      <th>0</th>\n",
       "      <td>NaN</td>\n",
       "      <td>NDF</td>\n",
       "      <td>IE</td>\n",
       "      <td>en</td>\n",
       "      <td>1</td>\n",
       "      <td>1</td>\n",
       "      <td>2021-06-14 04:49:23</td>\n",
       "    </tr>\n",
       "    <tr>\n",
       "      <th>1</th>\n",
       "      <td>28.0</td>\n",
       "      <td>NDF</td>\n",
       "      <td>Chrome</td>\n",
       "      <td>en</td>\n",
       "      <td>1</td>\n",
       "      <td>2</td>\n",
       "      <td>2021-06-25 19:11:09</td>\n",
       "    </tr>\n",
       "    <tr>\n",
       "      <th>2</th>\n",
       "      <td>NaN</td>\n",
       "      <td>GB</td>\n",
       "      <td>-unknown-</td>\n",
       "      <td>en</td>\n",
       "      <td>1</td>\n",
       "      <td>3</td>\n",
       "      <td>2021-07-13 19:23:29</td>\n",
       "    </tr>\n",
       "    <tr>\n",
       "      <th>3</th>\n",
       "      <td>32.0</td>\n",
       "      <td>NDF</td>\n",
       "      <td>Safari</td>\n",
       "      <td>en</td>\n",
       "      <td>1</td>\n",
       "      <td>4</td>\n",
       "      <td>2022-01-09 00:40:50</td>\n",
       "    </tr>\n",
       "    <tr>\n",
       "      <th>4</th>\n",
       "      <td>NaN</td>\n",
       "      <td>NDF</td>\n",
       "      <td>IE</td>\n",
       "      <td>en</td>\n",
       "      <td>1</td>\n",
       "      <td>5</td>\n",
       "      <td>2021-04-05 22:38:07</td>\n",
       "    </tr>\n",
       "  </tbody>\n",
       "</table>\n",
       "</div>"
      ],
      "text/plain": [
       "    age destination first_browser language  booking  customer_id  \\\n",
       "0   NaN         NDF            IE       en        1            1   \n",
       "1  28.0         NDF        Chrome       en        1            2   \n",
       "2   NaN          GB     -unknown-       en        1            3   \n",
       "3  32.0         NDF        Safari       en        1            4   \n",
       "4   NaN         NDF            IE       en        1            5   \n",
       "\n",
       "         session_date  \n",
       "0 2021-06-14 04:49:23  \n",
       "1 2021-06-25 19:11:09  \n",
       "2 2021-07-13 19:23:29  \n",
       "3 2022-01-09 00:40:50  \n",
       "4 2021-04-05 22:38:07  "
      ]
     },
     "execution_count": 12,
     "metadata": {},
     "output_type": "execute_result"
    }
   ],
   "source": [
    "# Let's start by scanning the first couple records\n",
    "df.head()"
   ]
  },
  {
   "cell_type": "markdown",
   "id": "e292e6ec",
   "metadata": {},
   "source": [
    "### Missingness"
   ]
  },
  {
   "cell_type": "code",
   "execution_count": 13,
   "id": "902b03ce",
   "metadata": {},
   "outputs": [
    {
     "data": {
      "text/plain": [
       "age              0.428667\n",
       "destination      0.000000\n",
       "first_browser    0.000000\n",
       "language         0.000000\n",
       "booking          0.000000\n",
       "customer_id      0.000000\n",
       "session_date     0.000000\n",
       "dtype: float64"
      ]
     },
     "execution_count": 13,
     "metadata": {},
     "output_type": "execute_result"
    }
   ],
   "source": [
    "# What is the missing value of each variable?\n",
    "df.isnull().mean()"
   ]
  },
  {
   "cell_type": "markdown",
   "id": "ee293314",
   "metadata": {},
   "source": [
    "This shows us that the user age is the only variable with missingness. We can handle this later with mean imputation."
   ]
  },
  {
   "cell_type": "markdown",
   "id": "8b4c9d50",
   "metadata": {},
   "source": [
    "### Univariate Analysis"
   ]
  },
  {
   "cell_type": "code",
   "execution_count": 14,
   "id": "51a5a718",
   "metadata": {},
   "outputs": [
    {
     "data": {
      "text/plain": [
       "count    1714.000000\n",
       "mean       42.161027\n",
       "std        96.370308\n",
       "min        18.000000\n",
       "25%        29.000000\n",
       "50%        34.000000\n",
       "75%        43.000000\n",
       "max      2014.000000\n",
       "Name: age, dtype: float64"
      ]
     },
     "execution_count": 14,
     "metadata": {},
     "output_type": "execute_result"
    }
   ],
   "source": [
    "# Let's look at the numerical summary of age\n",
    "df.age.describe()"
   ]
  },
  {
   "cell_type": "markdown",
   "id": "302dca2c",
   "metadata": {},
   "source": [
    "The median guest age is 34, and at most we should see age at 100. But, we are seeing outliers like 2014, which is not possible. This could be due to human error or data pipeline issue when the data was collected. Additional investigation may be required later. But, as of now, we can apply clipping at 100 to handle extreme cases."
   ]
  },
  {
   "cell_type": "code",
   "execution_count": 15,
   "id": "58a7d33a",
   "metadata": {},
   "outputs": [
    {
     "data": {
      "image/png": "[encoded data removed]",
      "text/plain": [
       "<Figure size 800x300 with 1 Axes>"
      ]
     },
     "metadata": {},
     "output_type": "display_data"
    }
   ],
   "source": [
    "# Let's visualize age on a graph with clipping at 100\n",
    "df.age.clip(upper=100).hist(bins=30, legend=True, figsize=(8,3))\n",
    "plt.title('Distribution of Guest Age')\n",
    "plt.xlabel('Counts')\n",
    "plt.ylabel('Age')\n",
    "plt.show();"
   ]
  },
  {
   "cell_type": "code",
   "execution_count": 16,
   "id": "7cbaee29",
   "metadata": {
    "scrolled": true
   },
   "outputs": [
    {
     "data": {
      "text/plain": [
       "destination      11\n",
       "first_browser    12\n",
       "language         11\n",
       "dtype: int64"
      ]
     },
     "execution_count": 16,
     "metadata": {},
     "output_type": "execute_result"
    }
   ],
   "source": [
    "# How many unique values per each variable? \n",
    "categorical_variables = ['destination','first_browser','language']\n",
    "df[categorical_variables].nunique()"
   ]
  },
  {
   "cell_type": "markdown",
   "id": "f46b5fbc",
   "metadata": {},
   "source": [
    "Compared to the data, 11 to 12 unique values per each variable has moderate cardinality. One-hot encoding may not be the best procedure given that there would be 34 additional sparse columns added increasing overfitting. Though there are additional strategies such as data merging, or feature selection of one-hot encoded variable highly correlated with the booking variable, we will keep the MVP model simple by using ordinal encoding. This will represent each categorical value into a numeric value such that the classifer can be trained on the transformed data."
   ]
  },
  {
   "cell_type": "markdown",
   "id": "038f74a3",
   "metadata": {},
   "source": [
    "### Target Variable"
   ]
  },
  {
   "cell_type": "code",
   "execution_count": 17,
   "id": "5a97c01d",
   "metadata": {},
   "outputs": [
    {
     "name": "stdout",
     "output_type": "stream",
     "text": [
      "Booking Proportion: 0.333\n"
     ]
    }
   ],
   "source": [
    "# What's the percentage of booking?\n",
    "print(f\"Booking Proportion: {df['booking'].mean():0.3}\")"
   ]
  },
  {
   "cell_type": "markdown",
   "id": "70bce0bb",
   "metadata": {},
   "source": [
    "33% booking proportion shows that the target class is moderately imbalanced. This suggests that AUC may be the best evaluation metric when evaluating the performance of a classifier."
   ]
  },
  {
   "cell_type": "code",
   "execution_count": 18,
   "id": "22370535",
   "metadata": {},
   "outputs": [
    {
     "data": {
      "image/png": "[encoded data removed]",
      "text/plain": [
       "<Figure size 600x300 with 1 Axes>"
      ]
     },
     "metadata": {},
     "output_type": "display_data"
    }
   ],
   "source": [
    "bins = [0, 20, 40, 60, 80, 100]\n",
    "df['age_intervals'] = pd.cut(df['age'], bins, right=False)\n",
    "df.groupby('age_intervals')['booking'].mean().plot.bar(legend=True, figsize=(6,3))\n",
    "plt.title('Age Groups vs Booking Rate')\n",
    "plt.xlabel('Age Groups')\n",
    "plt.ylabel('Booking Rate')\n",
    "plt.show();"
   ]
  },
  {
   "cell_type": "code",
   "execution_count": 19,
   "id": "64bb193c",
   "metadata": {},
   "outputs": [
    {
     "data": {
      "image/png": "[encoded data removed]",
      "text/plain": [
       "<Figure size 1200x400 with 3 Axes>"
      ]
     },
     "metadata": {},
     "output_type": "display_data"
    }
   ],
   "source": [
    "f, axes = plt.subplots(figsize=(12,4), ncols=3)\n",
    "for i, c in enumerate(categorical_variables):\n",
    "    df.groupby(c)['booking'].mean().plot.bar(legend=True, ax=axes[i])\n",
    "    axes[i].set_ylabel('Booking Rate')\n",
    "plt.tight_layout()\n",
    "plt.show();"
   ]
  },
  {
   "cell_type": "markdown",
   "id": "48d07e5d",
   "metadata": {},
   "source": [
    "# Data Preprocessing"
   ]
  },
  {
   "cell_type": "markdown",
   "id": "9624bf73",
   "metadata": {},
   "source": [
    "### Split data into train and test"
   ]
  },
  {
   "cell_type": "code",
   "execution_count": 20,
   "id": "833e39d5",
   "metadata": {},
   "outputs": [],
   "source": [
    "# Apply 80-20 split on the train and test\n",
    "features = ['age','destination','first_browser','language']\n",
    "target = ['booking']\n",
    "X_train, X_test, y_train, y_test = train_test_split(df[features], df[target], test_size=.2, random_state=SEED)"
   ]
  },
  {
   "cell_type": "markdown",
   "id": "3416ffea",
   "metadata": {},
   "source": [
    "### Build a Column Transformer"
   ]
  },
  {
   "cell_type": "code",
   "execution_count": 21,
   "id": "a83de85b",
   "metadata": {},
   "outputs": [],
   "source": [
    "# Let's construct a Column Transformer that applies different preprocessing techniques \n",
    "# to multiple feature columns in pipeline. We will apply mean-imputation on age and label\n",
    "# encoding on categorical variables: ['destination','first_browser','language']\n",
    "preprocess = ColumnTransformer([\n",
    "  ('impute', SimpleImputer(strategy='mean'), ['age']),\n",
    "  ('ordinal_encoder', OrdinalEncoder(handle_unknown='use_encoded_value', unknown_value=-99), ['destination', 'first_browser', 'language']),\n",
    "], verbose_feature_names_out=False)"
   ]
  },
  {
   "cell_type": "markdown",
   "id": "f2f00152",
   "metadata": {},
   "source": [
    "# Model Training"
   ]
  },
  {
   "cell_type": "markdown",
   "id": "a8cb37dd",
   "metadata": {},
   "source": [
    "### Baseline Model"
   ]
  },
  {
   "cell_type": "code",
   "execution_count": 22,
   "id": "1d41ef0c",
   "metadata": {},
   "outputs": [
    {
     "data": {
      "text/html": [
       "<style>#sk-container-id-1 {color: black;background-color: white;}#sk-container-id-1 pre{padding: 0;}#sk-container-id-1 div.sk-toggleable {background-color: white;}#sk-container-id-1 label.sk-toggleable__label {cursor: pointer;display: block;width: 100%;margin-bottom: 0;padding: 0.3em;box-sizing: border-box;text-align: center;}#sk-container-id-1 label.sk-toggleable__label-arrow:before {content: \"▸\";float: left;margin-right: 0.25em;color: #696969;}#sk-container-id-1 label.sk-toggleable__label-arrow:hover:before {color: black;}#sk-container-id-1 div.sk-estimator:hover label.sk-toggleable__label-arrow:before {color: black;}#sk-container-id-1 div.sk-toggleable__content {max-height: 0;max-width: 0;overflow: hidden;text-align: left;background-color: #f0f8ff;}#sk-container-id-1 div.sk-toggleable__content pre {margin: 0.2em;color: black;border-radius: 0.25em;background-color: #f0f8ff;}#sk-container-id-1 input.sk-toggleable__control:checked~div.sk-toggleable__content {max-height: 200px;max-width: 100%;overflow: auto;}#sk-container-id-1 input.sk-toggleable__control:checked~label.sk-toggleable__label-arrow:before {content: \"▾\";}#sk-container-id-1 div.sk-estimator input.sk-toggleable__control:checked~label.sk-toggleable__label {background-color: #d4ebff;}#sk-container-id-1 div.sk-label input.sk-toggleable__control:checked~label.sk-toggleable__label {background-color: #d4ebff;}#sk-container-id-1 input.sk-hidden--visually {border: 0;clip: rect(1px 1px 1px 1px);clip: rect(1px, 1px, 1px, 1px);height: 1px;margin: -1px;overflow: hidden;padding: 0;position: absolute;width: 1px;}#sk-container-id-1 div.sk-estimator {font-family: monospace;background-color: #f0f8ff;border: 1px dotted black;border-radius: 0.25em;box-sizing: border-box;margin-bottom: 0.5em;}#sk-container-id-1 div.sk-estimator:hover {background-color: #d4ebff;}#sk-container-id-1 div.sk-parallel-item::after {content: \"\";width: 100%;border-bottom: 1px solid gray;flex-grow: 1;}#sk-container-id-1 div.sk-label:hover label.sk-toggleable__label {background-color: #d4ebff;}#sk-container-id-1 div.sk-serial::before {content: \"\";position: absolute;border-left: 1px solid gray;box-sizing: border-box;top: 0;bottom: 0;left: 50%;z-index: 0;}#sk-container-id-1 div.sk-serial {display: flex;flex-direction: column;align-items: center;background-color: white;padding-right: 0.2em;padding-left: 0.2em;position: relative;}#sk-container-id-1 div.sk-item {position: relative;z-index: 1;}#sk-container-id-1 div.sk-parallel {display: flex;align-items: stretch;justify-content: center;background-color: white;position: relative;}#sk-container-id-1 div.sk-item::before, #sk-container-id-1 div.sk-parallel-item::before {content: \"\";position: absolute;border-left: 1px solid gray;box-sizing: border-box;top: 0;bottom: 0;left: 50%;z-index: -1;}#sk-container-id-1 div.sk-parallel-item {display: flex;flex-direction: column;z-index: 1;position: relative;background-color: white;}#sk-container-id-1 div.sk-parallel-item:first-child::after {align-self: flex-end;width: 50%;}#sk-container-id-1 div.sk-parallel-item:last-child::after {align-self: flex-start;width: 50%;}#sk-container-id-1 div.sk-parallel-item:only-child::after {width: 0;}#sk-container-id-1 div.sk-dashed-wrapped {border: 1px dashed gray;margin: 0 0.4em 0.5em 0.4em;box-sizing: border-box;padding-bottom: 0.4em;background-color: white;}#sk-container-id-1 div.sk-label label {font-family: monospace;font-weight: bold;display: inline-block;line-height: 1.2em;}#sk-container-id-1 div.sk-label-container {text-align: center;}#sk-container-id-1 div.sk-container {/* jupyter's `normalize.less` sets `[hidden] { display: none; }` but bootstrap.min.css set `[hidden] { display: none !important; }` so we also need the `!important` here to be able to override the default hidden behavior on the sphinx rendered scikit-learn.org. See: https://github.com/scikit-learn/scikit-learn/issues/21755 */display: inline-block !important;position: relative;}#sk-container-id-1 div.sk-text-repr-fallback {display: none;}</style><div id=\"sk-container-id-1\" class=\"sk-top-container\"><div class=\"sk-text-repr-fallback\"><pre>Pipeline(steps=[(&#x27;preprocess&#x27;,\n",
       "                 ColumnTransformer(transformers=[(&#x27;impute&#x27;, SimpleImputer(),\n",
       "                                                  [&#x27;age&#x27;]),\n",
       "                                                 (&#x27;ordinal_encoder&#x27;,\n",
       "                                                  OrdinalEncoder(handle_unknown=&#x27;use_encoded_value&#x27;,\n",
       "                                                                 unknown_value=-99),\n",
       "                                                  [&#x27;destination&#x27;,\n",
       "                                                   &#x27;first_browser&#x27;,\n",
       "                                                   &#x27;language&#x27;])],\n",
       "                                   verbose_feature_names_out=False)),\n",
       "                (&#x27;rf_model&#x27;, RandomForestClassifier(random_state=123))])</pre><b>In a Jupyter environment, please rerun this cell to show the HTML representation or trust the notebook. <br />On GitHub, the HTML representation is unable to render, please try loading this page with nbviewer.org.</b></div><div class=\"sk-container\" hidden><div class=\"sk-item sk-dashed-wrapped\"><div class=\"sk-label-container\"><div class=\"sk-label sk-toggleable\"><input class=\"sk-toggleable__control sk-hidden--visually\" id=\"sk-estimator-id-1\" type=\"checkbox\" ><label for=\"sk-estimator-id-1\" class=\"sk-toggleable__label sk-toggleable__label-arrow\">Pipeline</label><div class=\"sk-toggleable__content\"><pre>Pipeline(steps=[(&#x27;preprocess&#x27;,\n",
       "                 ColumnTransformer(transformers=[(&#x27;impute&#x27;, SimpleImputer(),\n",
       "                                                  [&#x27;age&#x27;]),\n",
       "                                                 (&#x27;ordinal_encoder&#x27;,\n",
       "                                                  OrdinalEncoder(handle_unknown=&#x27;use_encoded_value&#x27;,\n",
       "                                                                 unknown_value=-99),\n",
       "                                                  [&#x27;destination&#x27;,\n",
       "                                                   &#x27;first_browser&#x27;,\n",
       "                                                   &#x27;language&#x27;])],\n",
       "                                   verbose_feature_names_out=False)),\n",
       "                (&#x27;rf_model&#x27;, RandomForestClassifier(random_state=123))])</pre></div></div></div><div class=\"sk-serial\"><div class=\"sk-item sk-dashed-wrapped\"><div class=\"sk-label-container\"><div class=\"sk-label sk-toggleable\"><input class=\"sk-toggleable__control sk-hidden--visually\" id=\"sk-estimator-id-2\" type=\"checkbox\" ><label for=\"sk-estimator-id-2\" class=\"sk-toggleable__label sk-toggleable__label-arrow\">preprocess: ColumnTransformer</label><div class=\"sk-toggleable__content\"><pre>ColumnTransformer(transformers=[(&#x27;impute&#x27;, SimpleImputer(), [&#x27;age&#x27;]),\n",
       "                                (&#x27;ordinal_encoder&#x27;,\n",
       "                                 OrdinalEncoder(handle_unknown=&#x27;use_encoded_value&#x27;,\n",
       "                                                unknown_value=-99),\n",
       "                                 [&#x27;destination&#x27;, &#x27;first_browser&#x27;, &#x27;language&#x27;])],\n",
       "                  verbose_feature_names_out=False)</pre></div></div></div><div class=\"sk-parallel\"><div class=\"sk-parallel-item\"><div class=\"sk-item\"><div class=\"sk-label-container\"><div class=\"sk-label sk-toggleable\"><input class=\"sk-toggleable__control sk-hidden--visually\" id=\"sk-estimator-id-3\" type=\"checkbox\" ><label for=\"sk-estimator-id-3\" class=\"sk-toggleable__label sk-toggleable__label-arrow\">impute</label><div class=\"sk-toggleable__content\"><pre>[&#x27;age&#x27;]</pre></div></div></div><div class=\"sk-serial\"><div class=\"sk-item\"><div class=\"sk-estimator sk-toggleable\"><input class=\"sk-toggleable__control sk-hidden--visually\" id=\"sk-estimator-id-4\" type=\"checkbox\" ><label for=\"sk-estimator-id-4\" class=\"sk-toggleable__label sk-toggleable__label-arrow\">SimpleImputer</label><div class=\"sk-toggleable__content\"><pre>SimpleImputer()</pre></div></div></div></div></div></div><div class=\"sk-parallel-item\"><div class=\"sk-item\"><div class=\"sk-label-container\"><div class=\"sk-label sk-toggleable\"><input class=\"sk-toggleable__control sk-hidden--visually\" id=\"sk-estimator-id-5\" type=\"checkbox\" ><label for=\"sk-estimator-id-5\" class=\"sk-toggleable__label sk-toggleable__label-arrow\">ordinal_encoder</label><div class=\"sk-toggleable__content\"><pre>[&#x27;destination&#x27;, &#x27;first_browser&#x27;, &#x27;language&#x27;]</pre></div></div></div><div class=\"sk-serial\"><div class=\"sk-item\"><div class=\"sk-estimator sk-toggleable\"><input class=\"sk-toggleable__control sk-hidden--visually\" id=\"sk-estimator-id-6\" type=\"checkbox\" ><label for=\"sk-estimator-id-6\" class=\"sk-toggleable__label sk-toggleable__label-arrow\">OrdinalEncoder</label><div class=\"sk-toggleable__content\"><pre>OrdinalEncoder(handle_unknown=&#x27;use_encoded_value&#x27;, unknown_value=-99)</pre></div></div></div></div></div></div></div></div><div class=\"sk-item\"><div class=\"sk-estimator sk-toggleable\"><input class=\"sk-toggleable__control sk-hidden--visually\" id=\"sk-estimator-id-7\" type=\"checkbox\" ><label for=\"sk-estimator-id-7\" class=\"sk-toggleable__label sk-toggleable__label-arrow\">RandomForestClassifier</label><div class=\"sk-toggleable__content\"><pre>RandomForestClassifier(random_state=123)</pre></div></div></div></div></div></div></div>"
      ],
      "text/plain": [
       "Pipeline(steps=[('preprocess',\n",
       "                 ColumnTransformer(transformers=[('impute', SimpleImputer(),\n",
       "                                                  ['age']),\n",
       "                                                 ('ordinal_encoder',\n",
       "                                                  OrdinalEncoder(handle_unknown='use_encoded_value',\n",
       "                                                                 unknown_value=-99),\n",
       "                                                  ['destination',\n",
       "                                                   'first_browser',\n",
       "                                                   'language'])],\n",
       "                                   verbose_feature_names_out=False)),\n",
       "                ('rf_model', RandomForestClassifier(random_state=123))])"
      ]
     },
     "execution_count": 22,
     "metadata": {},
     "output_type": "execute_result"
    }
   ],
   "source": [
    "# Instantiate a model\n",
    "rf_model = RandomForestClassifier(random_state=SEED)\n",
    "\n",
    "# build a model pipeline\n",
    "model_pipeline = Pipeline(steps=[\n",
    "    ('preprocess', preprocess),\n",
    "    ('rf_model', rf_model)\n",
    "])\n",
    "\n",
    "# Fit a model\n",
    "model_pipeline.fit(X_train, y_train.values.ravel())"
   ]
  },
  {
   "cell_type": "code",
   "execution_count": 23,
   "id": "5c7f8815",
   "metadata": {},
   "outputs": [
    {
     "name": "stdout",
     "output_type": "stream",
     "text": [
      "AUC: 0.913\n"
     ]
    }
   ],
   "source": [
    "# Evaluate baseline performance\n",
    "y_pred = model_pipeline.predict_proba(X_test)[:,1]\n",
    "score = roc_auc_score(y_test, y_pred)\n",
    "print(f'AUC: {score:.3f}')"
   ]
  },
  {
   "cell_type": "markdown",
   "id": "1780c2eb",
   "metadata": {},
   "source": [
    "### Hyper-Parameter Tuning with Grid Search"
   ]
  },
  {
   "cell_type": "code",
   "execution_count": 24,
   "id": "eb9c8a62",
   "metadata": {},
   "outputs": [
    {
     "data": {
      "text/html": [
       "<style>#sk-container-id-2 {color: black;background-color: white;}#sk-container-id-2 pre{padding: 0;}#sk-container-id-2 div.sk-toggleable {background-color: white;}#sk-container-id-2 label.sk-toggleable__label {cursor: pointer;display: block;width: 100%;margin-bottom: 0;padding: 0.3em;box-sizing: border-box;text-align: center;}#sk-container-id-2 label.sk-toggleable__label-arrow:before {content: \"▸\";float: left;margin-right: 0.25em;color: #696969;}#sk-container-id-2 label.sk-toggleable__label-arrow:hover:before {color: black;}#sk-container-id-2 div.sk-estimator:hover label.sk-toggleable__label-arrow:before {color: black;}#sk-container-id-2 div.sk-toggleable__content {max-height: 0;max-width: 0;overflow: hidden;text-align: left;background-color: #f0f8ff;}#sk-container-id-2 div.sk-toggleable__content pre {margin: 0.2em;color: black;border-radius: 0.25em;background-color: #f0f8ff;}#sk-container-id-2 input.sk-toggleable__control:checked~div.sk-toggleable__content {max-height: 200px;max-width: 100%;overflow: auto;}#sk-container-id-2 input.sk-toggleable__control:checked~label.sk-toggleable__label-arrow:before {content: \"▾\";}#sk-container-id-2 div.sk-estimator input.sk-toggleable__control:checked~label.sk-toggleable__label {background-color: #d4ebff;}#sk-container-id-2 div.sk-label input.sk-toggleable__control:checked~label.sk-toggleable__label {background-color: #d4ebff;}#sk-container-id-2 input.sk-hidden--visually {border: 0;clip: rect(1px 1px 1px 1px);clip: rect(1px, 1px, 1px, 1px);height: 1px;margin: -1px;overflow: hidden;padding: 0;position: absolute;width: 1px;}#sk-container-id-2 div.sk-estimator {font-family: monospace;background-color: #f0f8ff;border: 1px dotted black;border-radius: 0.25em;box-sizing: border-box;margin-bottom: 0.5em;}#sk-container-id-2 div.sk-estimator:hover {background-color: #d4ebff;}#sk-container-id-2 div.sk-parallel-item::after {content: \"\";width: 100%;border-bottom: 1px solid gray;flex-grow: 1;}#sk-container-id-2 div.sk-label:hover label.sk-toggleable__label {background-color: #d4ebff;}#sk-container-id-2 div.sk-serial::before {content: \"\";position: absolute;border-left: 1px solid gray;box-sizing: border-box;top: 0;bottom: 0;left: 50%;z-index: 0;}#sk-container-id-2 div.sk-serial {display: flex;flex-direction: column;align-items: center;background-color: white;padding-right: 0.2em;padding-left: 0.2em;position: relative;}#sk-container-id-2 div.sk-item {position: relative;z-index: 1;}#sk-container-id-2 div.sk-parallel {display: flex;align-items: stretch;justify-content: center;background-color: white;position: relative;}#sk-container-id-2 div.sk-item::before, #sk-container-id-2 div.sk-parallel-item::before {content: \"\";position: absolute;border-left: 1px solid gray;box-sizing: border-box;top: 0;bottom: 0;left: 50%;z-index: -1;}#sk-container-id-2 div.sk-parallel-item {display: flex;flex-direction: column;z-index: 1;position: relative;background-color: white;}#sk-container-id-2 div.sk-parallel-item:first-child::after {align-self: flex-end;width: 50%;}#sk-container-id-2 div.sk-parallel-item:last-child::after {align-self: flex-start;width: 50%;}#sk-container-id-2 div.sk-parallel-item:only-child::after {width: 0;}#sk-container-id-2 div.sk-dashed-wrapped {border: 1px dashed gray;margin: 0 0.4em 0.5em 0.4em;box-sizing: border-box;padding-bottom: 0.4em;background-color: white;}#sk-container-id-2 div.sk-label label {font-family: monospace;font-weight: bold;display: inline-block;line-height: 1.2em;}#sk-container-id-2 div.sk-label-container {text-align: center;}#sk-container-id-2 div.sk-container {/* jupyter's `normalize.less` sets `[hidden] { display: none; }` but bootstrap.min.css set `[hidden] { display: none !important; }` so we also need the `!important` here to be able to override the default hidden behavior on the sphinx rendered scikit-learn.org. See: https://github.com/scikit-learn/scikit-learn/issues/21755 */display: inline-block !important;position: relative;}#sk-container-id-2 div.sk-text-repr-fallback {display: none;}</style><div id=\"sk-container-id-2\" class=\"sk-top-container\"><div class=\"sk-text-repr-fallback\"><pre>GridSearchCV(cv=5,\n",
       "             estimator=Pipeline(steps=[(&#x27;preprocess&#x27;,\n",
       "                                        ColumnTransformer(transformers=[(&#x27;impute&#x27;,\n",
       "                                                                         SimpleImputer(),\n",
       "                                                                         [&#x27;age&#x27;]),\n",
       "                                                                        (&#x27;ordinal_encoder&#x27;,\n",
       "                                                                         OrdinalEncoder(handle_unknown=&#x27;use_encoded_value&#x27;,\n",
       "                                                                                        unknown_value=-99),\n",
       "                                                                         [&#x27;destination&#x27;,\n",
       "                                                                          &#x27;first_browser&#x27;,\n",
       "                                                                          &#x27;language&#x27;])],\n",
       "                                                          verbose_feature_names_out=False)),\n",
       "                                       (&#x27;rf_model&#x27;,\n",
       "                                        RandomForestClassifier(random_state=123))]),\n",
       "             n_jobs=-1,\n",
       "             param_grid={&#x27;rf_model__max_depth&#x27;: range(3, 10),\n",
       "                         &#x27;rf_model__n_estimators&#x27;: range(20, 80, 10)},\n",
       "             scoring=&#x27;roc_auc&#x27;)</pre><b>In a Jupyter environment, please rerun this cell to show the HTML representation or trust the notebook. <br />On GitHub, the HTML representation is unable to render, please try loading this page with nbviewer.org.</b></div><div class=\"sk-container\" hidden><div class=\"sk-item sk-dashed-wrapped\"><div class=\"sk-label-container\"><div class=\"sk-label sk-toggleable\"><input class=\"sk-toggleable__control sk-hidden--visually\" id=\"sk-estimator-id-8\" type=\"checkbox\" ><label for=\"sk-estimator-id-8\" class=\"sk-toggleable__label sk-toggleable__label-arrow\">GridSearchCV</label><div class=\"sk-toggleable__content\"><pre>GridSearchCV(cv=5,\n",
       "             estimator=Pipeline(steps=[(&#x27;preprocess&#x27;,\n",
       "                                        ColumnTransformer(transformers=[(&#x27;impute&#x27;,\n",
       "                                                                         SimpleImputer(),\n",
       "                                                                         [&#x27;age&#x27;]),\n",
       "                                                                        (&#x27;ordinal_encoder&#x27;,\n",
       "                                                                         OrdinalEncoder(handle_unknown=&#x27;use_encoded_value&#x27;,\n",
       "                                                                                        unknown_value=-99),\n",
       "                                                                         [&#x27;destination&#x27;,\n",
       "                                                                          &#x27;first_browser&#x27;,\n",
       "                                                                          &#x27;language&#x27;])],\n",
       "                                                          verbose_feature_names_out=False)),\n",
       "                                       (&#x27;rf_model&#x27;,\n",
       "                                        RandomForestClassifier(random_state=123))]),\n",
       "             n_jobs=-1,\n",
       "             param_grid={&#x27;rf_model__max_depth&#x27;: range(3, 10),\n",
       "                         &#x27;rf_model__n_estimators&#x27;: range(20, 80, 10)},\n",
       "             scoring=&#x27;roc_auc&#x27;)</pre></div></div></div><div class=\"sk-parallel\"><div class=\"sk-parallel-item\"><div class=\"sk-item\"><div class=\"sk-label-container\"><div class=\"sk-label sk-toggleable\"><input class=\"sk-toggleable__control sk-hidden--visually\" id=\"sk-estimator-id-9\" type=\"checkbox\" ><label for=\"sk-estimator-id-9\" class=\"sk-toggleable__label sk-toggleable__label-arrow\">estimator: Pipeline</label><div class=\"sk-toggleable__content\"><pre>Pipeline(steps=[(&#x27;preprocess&#x27;,\n",
       "                 ColumnTransformer(transformers=[(&#x27;impute&#x27;, SimpleImputer(),\n",
       "                                                  [&#x27;age&#x27;]),\n",
       "                                                 (&#x27;ordinal_encoder&#x27;,\n",
       "                                                  OrdinalEncoder(handle_unknown=&#x27;use_encoded_value&#x27;,\n",
       "                                                                 unknown_value=-99),\n",
       "                                                  [&#x27;destination&#x27;,\n",
       "                                                   &#x27;first_browser&#x27;,\n",
       "                                                   &#x27;language&#x27;])],\n",
       "                                   verbose_feature_names_out=False)),\n",
       "                (&#x27;rf_model&#x27;, RandomForestClassifier(random_state=123))])</pre></div></div></div><div class=\"sk-serial\"><div class=\"sk-item\"><div class=\"sk-serial\"><div class=\"sk-item sk-dashed-wrapped\"><div class=\"sk-label-container\"><div class=\"sk-label sk-toggleable\"><input class=\"sk-toggleable__control sk-hidden--visually\" id=\"sk-estimator-id-10\" type=\"checkbox\" ><label for=\"sk-estimator-id-10\" class=\"sk-toggleable__label sk-toggleable__label-arrow\">preprocess: ColumnTransformer</label><div class=\"sk-toggleable__content\"><pre>ColumnTransformer(transformers=[(&#x27;impute&#x27;, SimpleImputer(), [&#x27;age&#x27;]),\n",
       "                                (&#x27;ordinal_encoder&#x27;,\n",
       "                                 OrdinalEncoder(handle_unknown=&#x27;use_encoded_value&#x27;,\n",
       "                                                unknown_value=-99),\n",
       "                                 [&#x27;destination&#x27;, &#x27;first_browser&#x27;, &#x27;language&#x27;])],\n",
       "                  verbose_feature_names_out=False)</pre></div></div></div><div class=\"sk-parallel\"><div class=\"sk-parallel-item\"><div class=\"sk-item\"><div class=\"sk-label-container\"><div class=\"sk-label sk-toggleable\"><input class=\"sk-toggleable__control sk-hidden--visually\" id=\"sk-estimator-id-11\" type=\"checkbox\" ><label for=\"sk-estimator-id-11\" class=\"sk-toggleable__label sk-toggleable__label-arrow\">impute</label><div class=\"sk-toggleable__content\"><pre>[&#x27;age&#x27;]</pre></div></div></div><div class=\"sk-serial\"><div class=\"sk-item\"><div class=\"sk-estimator sk-toggleable\"><input class=\"sk-toggleable__control sk-hidden--visually\" id=\"sk-estimator-id-12\" type=\"checkbox\" ><label for=\"sk-estimator-id-12\" class=\"sk-toggleable__label sk-toggleable__label-arrow\">SimpleImputer</label><div class=\"sk-toggleable__content\"><pre>SimpleImputer()</pre></div></div></div></div></div></div><div class=\"sk-parallel-item\"><div class=\"sk-item\"><div class=\"sk-label-container\"><div class=\"sk-label sk-toggleable\"><input class=\"sk-toggleable__control sk-hidden--visually\" id=\"sk-estimator-id-13\" type=\"checkbox\" ><label for=\"sk-estimator-id-13\" class=\"sk-toggleable__label sk-toggleable__label-arrow\">ordinal_encoder</label><div class=\"sk-toggleable__content\"><pre>[&#x27;destination&#x27;, &#x27;first_browser&#x27;, &#x27;language&#x27;]</pre></div></div></div><div class=\"sk-serial\"><div class=\"sk-item\"><div class=\"sk-estimator sk-toggleable\"><input class=\"sk-toggleable__control sk-hidden--visually\" id=\"sk-estimator-id-14\" type=\"checkbox\" ><label for=\"sk-estimator-id-14\" class=\"sk-toggleable__label sk-toggleable__label-arrow\">OrdinalEncoder</label><div class=\"sk-toggleable__content\"><pre>OrdinalEncoder(handle_unknown=&#x27;use_encoded_value&#x27;, unknown_value=-99)</pre></div></div></div></div></div></div></div></div><div class=\"sk-item\"><div class=\"sk-estimator sk-toggleable\"><input class=\"sk-toggleable__control sk-hidden--visually\" id=\"sk-estimator-id-15\" type=\"checkbox\" ><label for=\"sk-estimator-id-15\" class=\"sk-toggleable__label sk-toggleable__label-arrow\">RandomForestClassifier</label><div class=\"sk-toggleable__content\"><pre>RandomForestClassifier(random_state=123)</pre></div></div></div></div></div></div></div></div></div></div></div></div>"
      ],
      "text/plain": [
       "GridSearchCV(cv=5,\n",
       "             estimator=Pipeline(steps=[('preprocess',\n",
       "                                        ColumnTransformer(transformers=[('impute',\n",
       "                                                                         SimpleImputer(),\n",
       "                                                                         ['age']),\n",
       "                                                                        ('ordinal_encoder',\n",
       "                                                                         OrdinalEncoder(handle_unknown='use_encoded_value',\n",
       "                                                                                        unknown_value=-99),\n",
       "                                                                         ['destination',\n",
       "                                                                          'first_browser',\n",
       "                                                                          'language'])],\n",
       "                                                          verbose_feature_names_out=False)),\n",
       "                                       ('rf_model',\n",
       "                                        RandomForestClassifier(random_state=123))]),\n",
       "             n_jobs=-1,\n",
       "             param_grid={'rf_model__max_depth': range(3, 10),\n",
       "                         'rf_model__n_estimators': range(20, 80, 10)},\n",
       "             scoring='roc_auc')"
      ]
     },
     "execution_count": 24,
     "metadata": {},
     "output_type": "execute_result"
    }
   ],
   "source": [
    "# Parameters for GridSearch model tuning\n",
    "param_grid = {\n",
    "    'rf_model__max_depth': range(3, 10, 1),\n",
    "    'rf_model__n_estimators': range(20, 80, 10)\n",
    "}\n",
    "\n",
    "# Wrap the model evaluation function in a make_scorer builder\n",
    "# This ensures that roc_auc_score is serializable when the model\n",
    "# is persisted with Joblob.\n",
    "def my_scorer(y_true, y_predicted):\n",
    "    error = roc_auc_score(y_true, y_predicted)\n",
    "    return error\n",
    "\n",
    "my_func = make_scorer(my_scorer, greater_is_better=True)\n",
    "\n",
    "# Use GridSearch to find the best parameters\n",
    "grid_search = GridSearchCV(\n",
    "    estimator=model_pipeline, \n",
    "    param_grid=param_grid, \n",
    "    scoring='roc_auc',\n",
    "#     scoring=my_func, \n",
    "    n_jobs=-1, cv=5\n",
    ")\n",
    "\n",
    "grid_search.fit(X_train, y_train.values.ravel())"
   ]
  },
  {
   "cell_type": "code",
   "execution_count": 25,
   "id": "6890a576",
   "metadata": {},
   "outputs": [
    {
     "name": "stdout",
     "output_type": "stream",
     "text": [
      "AUC: 0.929\n"
     ]
    }
   ],
   "source": [
    "# Evaluate grid search model performance\n",
    "y_pred = grid_search.predict_proba(X_test)[:,1]\n",
    "score = roc_auc_score(y_test, y_pred)\n",
    "print(f'AUC: {score:.3f}')"
   ]
  },
  {
   "cell_type": "markdown",
   "id": "703928da",
   "metadata": {},
   "source": [
    "# Export Model"
   ]
  },
  {
   "cell_type": "code",
   "execution_count": 26,
   "id": "69d6a768",
   "metadata": {},
   "outputs": [
    {
     "data": {
      "text/plain": [
       "['hotel_booking_model.joblib']"
      ]
     },
     "execution_count": 26,
     "metadata": {},
     "output_type": "execute_result"
    }
   ],
   "source": [
    "file_name = \"hotel_booking_model.joblib\"\n",
    "joblib.dump(grid_search, file_name)"
   ]
  },
  {
   "cell_type": "code",
   "execution_count": 27,
   "id": "ca0a0646",
   "metadata": {},
   "outputs": [
    {
     "name": "stdout",
     "output_type": "stream",
     "text": [
      "AUC: 0.929\n"
     ]
    }
   ],
   "source": [
    "# Check that the model export worked\n",
    "load_model = joblib.load(file_name)\n",
    "\n",
    "# Ensure that the exported model is consistent when\n",
    "# the model is loaded by comparing the evaluation scores.\n",
    "y_pred = load_model.predict_proba(X_test)[:,1]\n",
    "score = roc_auc_score(y_test, y_pred)\n",
    "print(f'AUC: {score:.3f}')"
   ]
  }
 ],
 "metadata": {
  "kernelspec": {
   "display_name": "ml-env",
   "language": "python",
   "name": "ml-env"
  },
  "language_info": {
   "codemirror_mode": {
    "name": "ipython",
    "version": 3
   },
   "file_extension": ".py",
   "mimetype": "text/x-python",
   "name": "python",
   "nbconvert_exporter": "python",
   "pygments_lexer": "ipython3",
   "version": "3.9.13"
  }
 },
 "nbformat": 4,
 "nbformat_minor": 5
}
